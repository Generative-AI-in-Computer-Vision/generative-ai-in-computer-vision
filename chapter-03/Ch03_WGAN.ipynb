{
  "nbformat": 4,
  "nbformat_minor": 0,
  "metadata": {
    "colab": {
      "provenance": [],
      "gpuType": "T4",
      "include_colab_link": true
    },
    "kernelspec": {
      "name": "python3",
      "display_name": "Python 3"
    },
    "language_info": {
      "name": "python"
    },
    "accelerator": "GPU"
  },
  "cells": [
    {
      "cell_type": "markdown",
      "metadata": {
        "id": "view-in-github",
        "colab_type": "text"
      },
      "source": [
        "<a href=\"https://colab.research.google.com/github/Generative-AI-in-Computer-Vision/generative-ai-in-computer-vision/blob/main/chapter-03/Ch03_WGAN.ipynb\" target=\"_parent\"><img src=\"https://colab.research.google.com/assets/colab-badge.svg\" alt=\"Open In Colab\"/></a>"
      ]
    },
    {
      "cell_type": "markdown",
      "source": [
        "# Chapter 3: Wasserstein Generative Adversarial Network (WGAN)"
      ],
      "metadata": {
        "id": "O6GYv-iZK-J-"
      }
    },
    {
      "cell_type": "markdown",
      "source": [
        "## Step 1: Import Necessary Libraries"
      ],
      "metadata": {
        "id": "fENSZtKLLylJ"
      }
    },
    {
      "cell_type": "code",
      "execution_count": null,
      "metadata": {
        "id": "SLcJR8vlIQPE"
      },
      "outputs": [],
      "source": [
        "import torch\n",
        "import torch.nn as nn\n",
        "import torch.optim as optim\n",
        "from torchvision import datasets, transforms\n",
        "from torch.utils.data import DataLoader"
      ]
    },
    {
      "cell_type": "markdown",
      "source": [
        "## Step 2: Enable GPU Training"
      ],
      "metadata": {
        "id": "noZk8naaMPcL"
      }
    },
    {
      "cell_type": "code",
      "source": [
        "device = torch.device(\"cuda:0\" if torch.cuda.is_available() else \"cpu\")\n",
        "print(device)"
      ],
      "metadata": {
        "id": "NWvCqmYGL6_x",
        "colab": {
          "base_uri": "https://localhost:8080/"
        },
        "outputId": "92814e8d-3840-4e99-92d7-3204ca26ae73"
      },
      "execution_count": null,
      "outputs": [
        {
          "output_type": "stream",
          "name": "stdout",
          "text": [
            "cuda:0\n"
          ]
        }
      ]
    },
    {
      "cell_type": "markdown",
      "source": [
        "## Step 3: Load the Dataset"
      ],
      "metadata": {
        "id": "78tE7aIyMYRP"
      }
    },
    {
      "cell_type": "code",
      "source": [
        "batch_size = 64\n",
        "\n",
        "transform = transforms.Compose([\n",
        "    transforms.ToTensor(),\n",
        "    transforms.Normalize((0.5,), (0.5,))\n",
        "])\n",
        "\n",
        "train_dataset = datasets.MNIST(root='./data', train=True, download=True, transform=transform)\n",
        "train_loader = DataLoader(train_dataset, batch_size=batch_size, shuffle=True)"
      ],
      "metadata": {
        "id": "rLXhAQDuMbSe"
      },
      "execution_count": null,
      "outputs": []
    },
    {
      "cell_type": "markdown",
      "source": [
        "## Step 4: Implement the Generator"
      ],
      "metadata": {
        "id": "LXeBBqmeNPKe"
      }
    },
    {
      "cell_type": "code",
      "source": [
        "class Generator(nn.Module):\n",
        "    def __init__(self):\n",
        "        super(Generator, self).__init__()\n",
        "\n",
        "        self.model = nn.Sequential(\n",
        "            # Fully connected layer that reshapes the input noise vector\n",
        "            nn.Linear(100, 256 * 7 * 7),\n",
        "            nn.Unflatten(1, (256, 7, 7)),\n",
        "\n",
        "            # Transposed Convolutional Layer\n",
        "            nn.ConvTranspose2d(256, 128, kernel_size=3, stride=2,\n",
        "                               padding=1, output_padding=1),\n",
        "            nn.BatchNorm2d(128),\n",
        "            nn.LeakyReLU(0.02),\n",
        "\n",
        "            # Another Transposed Convolutional Layer\n",
        "            nn.ConvTranspose2d(128, 64, kernel_size=3, stride=1, padding=1),\n",
        "            nn.BatchNorm2d(64),\n",
        "            nn.LeakyReLU(0.02),\n",
        "\n",
        "            # Final Transposed Convolutional Layer\n",
        "            nn.ConvTranspose2d(64, 1, kernel_size=3, stride=2,\n",
        "                               padding=1, output_padding=1),\n",
        "            nn.Tanh()\n",
        "        )\n",
        "\n",
        "    def forward(self, z):\n",
        "        return self.model(z)"
      ],
      "metadata": {
        "id": "JeatayZYN-qC"
      },
      "execution_count": null,
      "outputs": []
    },
    {
      "cell_type": "markdown",
      "source": [
        "## Step 5: Implement the Critic"
      ],
      "metadata": {
        "id": "YE5V7zpnPbYm"
      }
    },
    {
      "cell_type": "code",
      "source": [
        "class Critic(nn.Module):\n",
        "    def __init__(self):\n",
        "        super(Critic, self).__init__()\n",
        "        self.model = nn.Sequential(\n",
        "            nn.Conv2d(1, 64, kernel_size=4, stride=2, padding=1),\n",
        "            nn.BatchNorm2d(64),\n",
        "            nn.LeakyReLU(0.02),\n",
        "\n",
        "            nn.Conv2d(64, 128, kernel_size=4, stride=2, padding=1),\n",
        "            nn.BatchNorm2d(128),\n",
        "            nn.LeakyReLU(0.02),\n",
        "\n",
        "            nn.Conv2d(128, 1, kernel_size=7, stride=1, padding=0),\n",
        "            nn.Flatten()\n",
        "        )\n",
        "\n",
        "    def forward(self, x):\n",
        "        return self.model(x)"
      ],
      "metadata": {
        "id": "HZtDruPoPhbJ"
      },
      "execution_count": null,
      "outputs": []
    },
    {
      "cell_type": "markdown",
      "source": [
        "## Step 6: Initialize the Models and Optimizers"
      ],
      "metadata": {
        "id": "Y1XIscNvPnDV"
      }
    },
    {
      "cell_type": "code",
      "source": [
        "# Initialize models\n",
        "critic = Critic().to(device)\n",
        "generator = Generator().to(device)\n",
        "\n",
        "# Optimizers\n",
        "critic_optimizer = optim.Adam(critic.parameters(), lr=0.0001, betas=(0.6, 0.999))\n",
        "generator_optimizer = optim.Adam(generator.parameters(), lr=0.0001, betas=(0.6, 0.999))"
      ],
      "metadata": {
        "id": "iuyGcgREPvEC"
      },
      "execution_count": null,
      "outputs": []
    },
    {
      "cell_type": "markdown",
      "source": [
        "## Step 7: Train the Model"
      ],
      "metadata": {
        "id": "WfWicGUNQGfl"
      }
    },
    {
      "cell_type": "code",
      "source": [
        "# Hyperparameters\n",
        "num_epochs = 250\n",
        "clip_value = 1 # clipping value for the critic's weight\n",
        "n_critic = 2   # number of critic updates per generator update\n",
        "\n",
        "\n",
        "# Training Loop\n",
        "for epoch in range(num_epochs):\n",
        "    for i, (images, _) in enumerate(train_loader):\n",
        "\n",
        "        # ---------------------\n",
        "        #  Train Critic\n",
        "        # ---------------------\n",
        "\n",
        "        # Load real images\n",
        "        real_images = images.to(device)\n",
        "\n",
        "        critic_optimizer.zero_grad()\n",
        "\n",
        "        # Generate a batch of images\n",
        "        z = torch.randn(images.size(0), 100).to(device)  # Generate noise vector\n",
        "        fake_images = generator(z)\n",
        "\n",
        "        # Calculate critic's loss on real and fake images\n",
        "        critic_real = critic(real_images).reshape(-1)\n",
        "        critic_fake = critic(fake_images).reshape(-1)\n",
        "        loss_critic = -(torch.mean(critic_real) - torch.mean(critic_fake))\n",
        "        loss_critic.backward()\n",
        "        critic_optimizer.step()\n",
        "\n",
        "        # Clip weights of critic\n",
        "        for p in critic.parameters():\n",
        "            p.data.clamp_(-clip_value, clip_value)\n",
        "\n",
        "        # Train the generator every n_critic iterations\n",
        "        if i % n_critic == 0:\n",
        "            # -----------------\n",
        "            #  Train Generator\n",
        "            # -----------------\n",
        "            generator_optimizer.zero_grad()\n",
        "\n",
        "            # Generate a batch of images\n",
        "            fake_images = generator(z)\n",
        "\n",
        "            # Calculate loss on generator's images\n",
        "            critic_fake = critic(fake_images).reshape(-1)\n",
        "            loss_generator = -torch.mean(critic_fake)\n",
        "            loss_generator.backward()\n",
        "            generator_optimizer.step()\n",
        "\n",
        "        # Print out the losses occasionally\n",
        "        if i % 2000 == 0:\n",
        "            print(f\"Epoch [{epoch}/{num_epochs}] Batch {i}/{len(train_loader)} \\\n",
        "                   Loss D: {loss_critic:.4f}, loss G: {loss_generator:.4f}\")"
      ],
      "metadata": {
        "colab": {
          "base_uri": "https://localhost:8080/"
        },
        "id": "nooc1w5yQLid",
        "outputId": "9f9f6c6e-66d3-4528-8a7b-07284d973d44"
      },
      "execution_count": null,
      "outputs": [
        {
          "output_type": "stream",
          "name": "stdout",
          "text": [
            "Epoch [0/250] Batch 0/938                    Loss D: 0.2209, loss G: 0.1271\n",
            "Epoch [1/250] Batch 0/938                    Loss D: -52.1971, loss G: 26.0236\n",
            "Epoch [2/250] Batch 0/938                    Loss D: -125.0799, loss G: 72.8830\n",
            "Epoch [3/250] Batch 0/938                    Loss D: -167.8040, loss G: 59.8373\n",
            "Epoch [4/250] Batch 0/938                    Loss D: -194.6328, loss G: 163.8715\n",
            "Epoch [5/250] Batch 0/938                    Loss D: -187.1171, loss G: 206.0223\n",
            "Epoch [6/250] Batch 0/938                    Loss D: -164.5854, loss G: 86.5176\n",
            "Epoch [7/250] Batch 0/938                    Loss D: -191.9423, loss G: 448.9267\n",
            "Epoch [8/250] Batch 0/938                    Loss D: -196.5811, loss G: 121.1169\n",
            "Epoch [9/250] Batch 0/938                    Loss D: -146.2784, loss G: 437.9909\n",
            "Epoch [10/250] Batch 0/938                    Loss D: -120.0471, loss G: 256.8096\n",
            "Epoch [11/250] Batch 0/938                    Loss D: -258.4745, loss G: 247.1240\n",
            "Epoch [12/250] Batch 0/938                    Loss D: -205.9288, loss G: 427.7440\n",
            "Epoch [13/250] Batch 0/938                    Loss D: -221.1059, loss G: 429.8742\n",
            "Epoch [14/250] Batch 0/938                    Loss D: -334.7747, loss G: 791.0852\n",
            "Epoch [15/250] Batch 0/938                    Loss D: -284.0692, loss G: 310.7967\n",
            "Epoch [16/250] Batch 0/938                    Loss D: -269.4304, loss G: 693.3506\n",
            "Epoch [17/250] Batch 0/938                    Loss D: -132.0437, loss G: 447.2476\n",
            "Epoch [18/250] Batch 0/938                    Loss D: -271.9815, loss G: 918.2949\n",
            "Epoch [19/250] Batch 0/938                    Loss D: -263.5914, loss G: 781.7341\n",
            "Epoch [20/250] Batch 0/938                    Loss D: -234.4614, loss G: 300.2692\n",
            "Epoch [21/250] Batch 0/938                    Loss D: -316.9711, loss G: 324.1232\n",
            "Epoch [22/250] Batch 0/938                    Loss D: -277.1780, loss G: 464.7207\n",
            "Epoch [23/250] Batch 0/938                    Loss D: -317.6238, loss G: 372.6577\n",
            "Epoch [24/250] Batch 0/938                    Loss D: -312.7093, loss G: 207.2055\n",
            "Epoch [25/250] Batch 0/938                    Loss D: -280.8037, loss G: 974.7432\n",
            "Epoch [26/250] Batch 0/938                    Loss D: -217.3986, loss G: 497.5320\n",
            "Epoch [27/250] Batch 0/938                    Loss D: -338.0056, loss G: 1036.5985\n",
            "Epoch [28/250] Batch 0/938                    Loss D: -202.5562, loss G: 610.0632\n",
            "Epoch [29/250] Batch 0/938                    Loss D: -202.0214, loss G: 1030.2448\n",
            "Epoch [30/250] Batch 0/938                    Loss D: -229.0551, loss G: 829.2552\n",
            "Epoch [31/250] Batch 0/938                    Loss D: -187.9280, loss G: 1110.5293\n",
            "Epoch [32/250] Batch 0/938                    Loss D: -308.5347, loss G: 554.4513\n",
            "Epoch [33/250] Batch 0/938                    Loss D: -477.3501, loss G: 1282.7048\n",
            "Epoch [34/250] Batch 0/938                    Loss D: -385.8706, loss G: 168.1920\n",
            "Epoch [35/250] Batch 0/938                    Loss D: -124.4404, loss G: 1121.3130\n",
            "Epoch [36/250] Batch 0/938                    Loss D: -222.7097, loss G: 368.3482\n",
            "Epoch [37/250] Batch 0/938                    Loss D: -297.1090, loss G: 1094.5342\n",
            "Epoch [38/250] Batch 0/938                    Loss D: -249.1967, loss G: 132.9786\n",
            "Epoch [39/250] Batch 0/938                    Loss D: -118.0795, loss G: 850.9101\n",
            "Epoch [40/250] Batch 0/938                    Loss D: -195.7703, loss G: 635.3657\n",
            "Epoch [41/250] Batch 0/938                    Loss D: 17.7798, loss G: 944.2844\n",
            "Epoch [42/250] Batch 0/938                    Loss D: -182.6193, loss G: 1419.1929\n",
            "Epoch [43/250] Batch 0/938                    Loss D: -152.2862, loss G: 590.0501\n",
            "Epoch [44/250] Batch 0/938                    Loss D: -199.9097, loss G: 968.8174\n",
            "Epoch [45/250] Batch 0/938                    Loss D: -259.1516, loss G: 1176.3645\n",
            "Epoch [46/250] Batch 0/938                    Loss D: -416.3494, loss G: 27.9315\n",
            "Epoch [47/250] Batch 0/938                    Loss D: -386.8225, loss G: 421.0696\n",
            "Epoch [48/250] Batch 0/938                    Loss D: -349.0107, loss G: 1385.0979\n",
            "Epoch [49/250] Batch 0/938                    Loss D: -239.9835, loss G: 1057.0867\n",
            "Epoch [50/250] Batch 0/938                    Loss D: -79.5579, loss G: 860.8556\n",
            "Epoch [51/250] Batch 0/938                    Loss D: 51.2548, loss G: -15.7818\n",
            "Epoch [52/250] Batch 0/938                    Loss D: -146.3685, loss G: 1057.4651\n",
            "Epoch [53/250] Batch 0/938                    Loss D: -27.8292, loss G: 111.3447\n",
            "Epoch [54/250] Batch 0/938                    Loss D: -290.3514, loss G: 393.7069\n",
            "Epoch [55/250] Batch 0/938                    Loss D: -310.9690, loss G: 863.8239\n",
            "Epoch [56/250] Batch 0/938                    Loss D: -192.7922, loss G: 1259.0527\n",
            "Epoch [57/250] Batch 0/938                    Loss D: -213.2855, loss G: 100.2632\n",
            "Epoch [58/250] Batch 0/938                    Loss D: 8.1093, loss G: 1226.6991\n",
            "Epoch [59/250] Batch 0/938                    Loss D: -134.6879, loss G: 192.2962\n",
            "Epoch [60/250] Batch 0/938                    Loss D: -274.4960, loss G: 1236.2883\n",
            "Epoch [61/250] Batch 0/938                    Loss D: -66.8057, loss G: 1061.1508\n",
            "Epoch [62/250] Batch 0/938                    Loss D: -162.7956, loss G: 697.1668\n",
            "Epoch [63/250] Batch 0/938                    Loss D: 13.4426, loss G: 852.6500\n",
            "Epoch [64/250] Batch 0/938                    Loss D: -558.3463, loss G: 104.0647\n",
            "Epoch [65/250] Batch 0/938                    Loss D: 48.5547, loss G: 1307.5037\n",
            "Epoch [66/250] Batch 0/938                    Loss D: -361.4194, loss G: 1102.5981\n",
            "Epoch [67/250] Batch 0/938                    Loss D: -195.8001, loss G: 670.9821\n",
            "Epoch [68/250] Batch 0/938                    Loss D: -385.8933, loss G: 330.4059\n",
            "Epoch [69/250] Batch 0/938                    Loss D: -535.1271, loss G: 1355.9154\n",
            "Epoch [70/250] Batch 0/938                    Loss D: -234.4109, loss G: 788.4941\n",
            "Epoch [71/250] Batch 0/938                    Loss D: 72.7622, loss G: 100.0509\n",
            "Epoch [72/250] Batch 0/938                    Loss D: -337.9078, loss G: 1197.4285\n",
            "Epoch [73/250] Batch 0/938                    Loss D: -68.8964, loss G: 1151.8247\n",
            "Epoch [74/250] Batch 0/938                    Loss D: 165.9246, loss G: 889.2620\n",
            "Epoch [75/250] Batch 0/938                    Loss D: -389.4297, loss G: 1411.6681\n",
            "Epoch [76/250] Batch 0/938                    Loss D: -222.7139, loss G: 516.0197\n",
            "Epoch [77/250] Batch 0/938                    Loss D: -205.9356, loss G: 276.4783\n",
            "Epoch [78/250] Batch 0/938                    Loss D: -304.7355, loss G: 1168.0270\n",
            "Epoch [79/250] Batch 0/938                    Loss D: -190.9815, loss G: 781.0433\n",
            "Epoch [80/250] Batch 0/938                    Loss D: -473.8495, loss G: 401.6998\n",
            "Epoch [81/250] Batch 0/938                    Loss D: -473.2398, loss G: 625.0108\n",
            "Epoch [82/250] Batch 0/938                    Loss D: 28.2855, loss G: 460.6311\n",
            "Epoch [83/250] Batch 0/938                    Loss D: -156.2396, loss G: 670.9006\n",
            "Epoch [84/250] Batch 0/938                    Loss D: -181.6176, loss G: 586.6954\n",
            "Epoch [85/250] Batch 0/938                    Loss D: -170.1540, loss G: 709.1192\n",
            "Epoch [86/250] Batch 0/938                    Loss D: -464.1414, loss G: 241.5629\n",
            "Epoch [87/250] Batch 0/938                    Loss D: -186.6379, loss G: 1443.3398\n",
            "Epoch [88/250] Batch 0/938                    Loss D: -753.8052, loss G: 371.2057\n",
            "Epoch [89/250] Batch 0/938                    Loss D: -52.7343, loss G: 283.1038\n",
            "Epoch [90/250] Batch 0/938                    Loss D: -465.5071, loss G: 1156.6997\n",
            "Epoch [91/250] Batch 0/938                    Loss D: -188.3477, loss G: 646.7017\n",
            "Epoch [92/250] Batch 0/938                    Loss D: -169.8668, loss G: 845.5599\n",
            "Epoch [93/250] Batch 0/938                    Loss D: -72.7107, loss G: 1488.8795\n",
            "Epoch [94/250] Batch 0/938                    Loss D: -344.8109, loss G: 570.2767\n",
            "Epoch [95/250] Batch 0/938                    Loss D: -21.6376, loss G: 1464.8809\n",
            "Epoch [96/250] Batch 0/938                    Loss D: -377.2506, loss G: 1358.1208\n",
            "Epoch [97/250] Batch 0/938                    Loss D: -378.0662, loss G: 391.0681\n",
            "Epoch [98/250] Batch 0/938                    Loss D: -299.5997, loss G: 1272.9626\n",
            "Epoch [99/250] Batch 0/938                    Loss D: -364.2008, loss G: 1589.7715\n",
            "Epoch [100/250] Batch 0/938                    Loss D: -114.7017, loss G: 247.3156\n",
            "Epoch [101/250] Batch 0/938                    Loss D: -247.5225, loss G: 1620.4397\n",
            "Epoch [102/250] Batch 0/938                    Loss D: -266.5504, loss G: 303.4596\n",
            "Epoch [103/250] Batch 0/938                    Loss D: -168.9370, loss G: 1242.3102\n",
            "Epoch [104/250] Batch 0/938                    Loss D: 41.0813, loss G: 1332.1267\n",
            "Epoch [105/250] Batch 0/938                    Loss D: -18.6062, loss G: 747.6343\n",
            "Epoch [106/250] Batch 0/938                    Loss D: -282.5225, loss G: 1359.2498\n",
            "Epoch [107/250] Batch 0/938                    Loss D: 141.2579, loss G: -26.8506\n",
            "Epoch [108/250] Batch 0/938                    Loss D: 4.5095, loss G: 1035.0344\n",
            "Epoch [109/250] Batch 0/938                    Loss D: -322.5663, loss G: 409.9534\n",
            "Epoch [110/250] Batch 0/938                    Loss D: -269.3862, loss G: 1249.3782\n",
            "Epoch [111/250] Batch 0/938                    Loss D: -287.8253, loss G: 538.1145\n",
            "Epoch [112/250] Batch 0/938                    Loss D: -258.9450, loss G: 989.1464\n",
            "Epoch [113/250] Batch 0/938                    Loss D: -132.5898, loss G: 1098.0891\n",
            "Epoch [114/250] Batch 0/938                    Loss D: -277.9199, loss G: 1913.7740\n",
            "Epoch [115/250] Batch 0/938                    Loss D: 18.0388, loss G: 1559.0154\n",
            "Epoch [116/250] Batch 0/938                    Loss D: 7.3481, loss G: 1544.3082\n",
            "Epoch [117/250] Batch 0/938                    Loss D: -383.3131, loss G: 1529.2733\n",
            "Epoch [118/250] Batch 0/938                    Loss D: -630.1212, loss G: 238.8209\n",
            "Epoch [119/250] Batch 0/938                    Loss D: -170.9777, loss G: 926.1326\n",
            "Epoch [120/250] Batch 0/938                    Loss D: -151.9974, loss G: 213.0690\n",
            "Epoch [121/250] Batch 0/938                    Loss D: -372.8701, loss G: 1169.7471\n",
            "Epoch [122/250] Batch 0/938                    Loss D: -292.8304, loss G: 326.9045\n",
            "Epoch [123/250] Batch 0/938                    Loss D: 131.5647, loss G: 461.8275\n",
            "Epoch [124/250] Batch 0/938                    Loss D: -271.8848, loss G: 886.7999\n",
            "Epoch [125/250] Batch 0/938                    Loss D: -451.7365, loss G: 1601.8596\n",
            "Epoch [126/250] Batch 0/938                    Loss D: -164.6333, loss G: 44.8422\n",
            "Epoch [127/250] Batch 0/938                    Loss D: -494.8030, loss G: 646.7493\n",
            "Epoch [128/250] Batch 0/938                    Loss D: -273.1293, loss G: 682.2473\n",
            "Epoch [129/250] Batch 0/938                    Loss D: -150.0100, loss G: 971.7999\n",
            "Epoch [130/250] Batch 0/938                    Loss D: -477.1562, loss G: 515.6350\n",
            "Epoch [131/250] Batch 0/938                    Loss D: -527.3521, loss G: 1419.0858\n",
            "Epoch [132/250] Batch 0/938                    Loss D: -178.4392, loss G: 753.7214\n",
            "Epoch [133/250] Batch 0/938                    Loss D: -455.7678, loss G: 253.6845\n",
            "Epoch [134/250] Batch 0/938                    Loss D: -695.8351, loss G: 1507.6401\n",
            "Epoch [135/250] Batch 0/938                    Loss D: -155.0209, loss G: 584.3175\n",
            "Epoch [136/250] Batch 0/938                    Loss D: 92.8139, loss G: 693.2479\n",
            "Epoch [137/250] Batch 0/938                    Loss D: 190.2570, loss G: -91.1917\n",
            "Epoch [138/250] Batch 0/938                    Loss D: -124.1451, loss G: 147.8176\n",
            "Epoch [139/250] Batch 0/938                    Loss D: -292.2258, loss G: 802.1798\n",
            "Epoch [140/250] Batch 0/938                    Loss D: -416.0318, loss G: 1266.9952\n",
            "Epoch [141/250] Batch 0/938                    Loss D: -158.9258, loss G: 1351.9532\n",
            "Epoch [142/250] Batch 0/938                    Loss D: -89.8930, loss G: 990.0436\n",
            "Epoch [143/250] Batch 0/938                    Loss D: -134.2233, loss G: 1316.6440\n",
            "Epoch [144/250] Batch 0/938                    Loss D: -525.8646, loss G: 1258.9149\n",
            "Epoch [145/250] Batch 0/938                    Loss D: 112.2492, loss G: 483.8050\n",
            "Epoch [146/250] Batch 0/938                    Loss D: 117.9684, loss G: 1255.9221\n",
            "Epoch [147/250] Batch 0/938                    Loss D: -380.7915, loss G: 1346.7599\n",
            "Epoch [148/250] Batch 0/938                    Loss D: -362.4188, loss G: 1348.5905\n",
            "Epoch [149/250] Batch 0/938                    Loss D: -130.9343, loss G: 1125.4141\n",
            "Epoch [150/250] Batch 0/938                    Loss D: -501.5886, loss G: 1039.8767\n",
            "Epoch [151/250] Batch 0/938                    Loss D: -111.9963, loss G: 2359.6541\n",
            "Epoch [152/250] Batch 0/938                    Loss D: -423.4572, loss G: 1290.4209\n",
            "Epoch [153/250] Batch 0/938                    Loss D: -274.6221, loss G: 1287.8264\n",
            "Epoch [154/250] Batch 0/938                    Loss D: -119.3125, loss G: 1442.3987\n",
            "Epoch [155/250] Batch 0/938                    Loss D: -163.1144, loss G: 1349.2417\n",
            "Epoch [156/250] Batch 0/938                    Loss D: 133.4063, loss G: 923.5933\n",
            "Epoch [157/250] Batch 0/938                    Loss D: -247.6906, loss G: 190.8448\n",
            "Epoch [158/250] Batch 0/938                    Loss D: -343.5956, loss G: 1229.8043\n",
            "Epoch [159/250] Batch 0/938                    Loss D: -191.7559, loss G: 279.6439\n",
            "Epoch [160/250] Batch 0/938                    Loss D: -55.4860, loss G: 262.5695\n",
            "Epoch [161/250] Batch 0/938                    Loss D: -277.4956, loss G: 335.6479\n",
            "Epoch [162/250] Batch 0/938                    Loss D: -269.6806, loss G: 682.3147\n",
            "Epoch [163/250] Batch 0/938                    Loss D: -145.1537, loss G: 454.2032\n",
            "Epoch [164/250] Batch 0/938                    Loss D: 420.4539, loss G: 896.6951\n",
            "Epoch [165/250] Batch 0/938                    Loss D: 105.2047, loss G: 443.0355\n",
            "Epoch [166/250] Batch 0/938                    Loss D: -396.7970, loss G: 1392.5916\n",
            "Epoch [167/250] Batch 0/938                    Loss D: -135.6075, loss G: 766.8464\n",
            "Epoch [168/250] Batch 0/938                    Loss D: -115.6056, loss G: 676.5989\n",
            "Epoch [169/250] Batch 0/938                    Loss D: -389.1389, loss G: 50.5198\n",
            "Epoch [170/250] Batch 0/938                    Loss D: -163.7516, loss G: 698.9451\n",
            "Epoch [171/250] Batch 0/938                    Loss D: -170.8801, loss G: 2340.0132\n",
            "Epoch [172/250] Batch 0/938                    Loss D: -552.8918, loss G: 1350.8672\n",
            "Epoch [173/250] Batch 0/938                    Loss D: -160.9941, loss G: 798.2335\n",
            "Epoch [174/250] Batch 0/938                    Loss D: -354.4284, loss G: 109.9498\n",
            "Epoch [175/250] Batch 0/938                    Loss D: -254.3946, loss G: 780.0293\n",
            "Epoch [176/250] Batch 0/938                    Loss D: -90.3306, loss G: 428.1197\n",
            "Epoch [177/250] Batch 0/938                    Loss D: -185.1935, loss G: 934.7307\n",
            "Epoch [178/250] Batch 0/938                    Loss D: -194.5559, loss G: 1524.2841\n",
            "Epoch [179/250] Batch 0/938                    Loss D: -180.8904, loss G: 1432.5328\n",
            "Epoch [180/250] Batch 0/938                    Loss D: 351.9065, loss G: 178.3828\n",
            "Epoch [181/250] Batch 0/938                    Loss D: -614.6913, loss G: 1570.6399\n",
            "Epoch [182/250] Batch 0/938                    Loss D: -68.6161, loss G: 856.0515\n",
            "Epoch [183/250] Batch 0/938                    Loss D: -693.5526, loss G: 279.9352\n",
            "Epoch [184/250] Batch 0/938                    Loss D: -242.0349, loss G: 352.3157\n",
            "Epoch [185/250] Batch 0/938                    Loss D: 19.7863, loss G: 1443.4161\n",
            "Epoch [186/250] Batch 0/938                    Loss D: -138.2272, loss G: 1772.3489\n",
            "Epoch [187/250] Batch 0/938                    Loss D: -32.5619, loss G: 652.4464\n",
            "Epoch [188/250] Batch 0/938                    Loss D: -322.5516, loss G: 416.8573\n",
            "Epoch [189/250] Batch 0/938                    Loss D: 94.7159, loss G: 846.5765\n",
            "Epoch [190/250] Batch 0/938                    Loss D: -496.2161, loss G: 221.3242\n",
            "Epoch [191/250] Batch 0/938                    Loss D: -73.7107, loss G: 253.4435\n",
            "Epoch [192/250] Batch 0/938                    Loss D: -29.7532, loss G: 426.5507\n",
            "Epoch [193/250] Batch 0/938                    Loss D: -345.9333, loss G: 871.3538\n",
            "Epoch [194/250] Batch 0/938                    Loss D: -447.8512, loss G: 64.9822\n",
            "Epoch [195/250] Batch 0/938                    Loss D: 279.0814, loss G: -286.8275\n",
            "Epoch [196/250] Batch 0/938                    Loss D: -101.8594, loss G: 2177.1819\n",
            "Epoch [197/250] Batch 0/938                    Loss D: -129.9609, loss G: 1333.1343\n",
            "Epoch [198/250] Batch 0/938                    Loss D: -89.8799, loss G: 714.2094\n",
            "Epoch [199/250] Batch 0/938                    Loss D: -462.9199, loss G: 1668.5256\n",
            "Epoch [200/250] Batch 0/938                    Loss D: -188.6250, loss G: 2038.2688\n",
            "Epoch [201/250] Batch 0/938                    Loss D: -625.6843, loss G: 861.4017\n",
            "Epoch [202/250] Batch 0/938                    Loss D: -207.9081, loss G: 729.5881\n",
            "Epoch [203/250] Batch 0/938                    Loss D: -411.4244, loss G: 405.4635\n",
            "Epoch [204/250] Batch 0/938                    Loss D: -402.6595, loss G: 1419.8660\n",
            "Epoch [205/250] Batch 0/938                    Loss D: -308.6660, loss G: 1053.3917\n",
            "Epoch [206/250] Batch 0/938                    Loss D: 506.7707, loss G: 333.3644\n",
            "Epoch [207/250] Batch 0/938                    Loss D: 58.4468, loss G: 1252.2222\n",
            "Epoch [208/250] Batch 0/938                    Loss D: -120.4769, loss G: 857.8263\n",
            "Epoch [209/250] Batch 0/938                    Loss D: -184.6014, loss G: 557.9029\n",
            "Epoch [210/250] Batch 0/938                    Loss D: -410.8773, loss G: 1017.9176\n",
            "Epoch [211/250] Batch 0/938                    Loss D: -179.5049, loss G: 873.6030\n",
            "Epoch [212/250] Batch 0/938                    Loss D: -170.6325, loss G: 760.9869\n",
            "Epoch [213/250] Batch 0/938                    Loss D: -624.8497, loss G: 1287.4381\n",
            "Epoch [214/250] Batch 0/938                    Loss D: -199.7738, loss G: 372.7209\n",
            "Epoch [215/250] Batch 0/938                    Loss D: 3.0431, loss G: 227.1383\n",
            "Epoch [216/250] Batch 0/938                    Loss D: 101.4288, loss G: 1235.9177\n",
            "Epoch [217/250] Batch 0/938                    Loss D: -41.2141, loss G: 833.4108\n",
            "Epoch [218/250] Batch 0/938                    Loss D: -410.1272, loss G: 1469.3158\n",
            "Epoch [219/250] Batch 0/938                    Loss D: 39.0013, loss G: 900.5578\n",
            "Epoch [220/250] Batch 0/938                    Loss D: 447.0084, loss G: 95.2032\n",
            "Epoch [221/250] Batch 0/938                    Loss D: -290.3494, loss G: 488.4006\n",
            "Epoch [222/250] Batch 0/938                    Loss D: 465.6672, loss G: 873.2662\n",
            "Epoch [223/250] Batch 0/938                    Loss D: -539.2572, loss G: 1343.0387\n",
            "Epoch [224/250] Batch 0/938                    Loss D: -107.5259, loss G: 944.5248\n",
            "Epoch [225/250] Batch 0/938                    Loss D: -589.2751, loss G: 1578.0267\n",
            "Epoch [226/250] Batch 0/938                    Loss D: -35.6573, loss G: 1080.3241\n",
            "Epoch [227/250] Batch 0/938                    Loss D: -108.1115, loss G: 707.7519\n",
            "Epoch [228/250] Batch 0/938                    Loss D: -191.2311, loss G: 1190.1199\n",
            "Epoch [229/250] Batch 0/938                    Loss D: -86.4666, loss G: 760.4451\n",
            "Epoch [230/250] Batch 0/938                    Loss D: -158.2406, loss G: 1592.4612\n",
            "Epoch [231/250] Batch 0/938                    Loss D: 33.9382, loss G: 154.6427\n",
            "Epoch [232/250] Batch 0/938                    Loss D: -255.9149, loss G: 421.4019\n",
            "Epoch [233/250] Batch 0/938                    Loss D: -278.0926, loss G: 1184.0573\n",
            "Epoch [234/250] Batch 0/938                    Loss D: -250.6380, loss G: 285.7474\n",
            "Epoch [235/250] Batch 0/938                    Loss D: -509.8505, loss G: 201.8371\n",
            "Epoch [236/250] Batch 0/938                    Loss D: -280.9427, loss G: 399.0826\n",
            "Epoch [237/250] Batch 0/938                    Loss D: -103.3559, loss G: 659.5524\n",
            "Epoch [238/250] Batch 0/938                    Loss D: -254.7629, loss G: 649.0108\n",
            "Epoch [239/250] Batch 0/938                    Loss D: -131.2646, loss G: 718.7113\n",
            "Epoch [240/250] Batch 0/938                    Loss D: -47.6703, loss G: 835.4860\n",
            "Epoch [241/250] Batch 0/938                    Loss D: -5.9489, loss G: -84.9878\n",
            "Epoch [242/250] Batch 0/938                    Loss D: -204.1634, loss G: 449.6553\n",
            "Epoch [243/250] Batch 0/938                    Loss D: -198.5171, loss G: 1591.0413\n",
            "Epoch [244/250] Batch 0/938                    Loss D: -152.3676, loss G: 1002.4908\n",
            "Epoch [245/250] Batch 0/938                    Loss D: -270.8300, loss G: 603.5531\n",
            "Epoch [246/250] Batch 0/938                    Loss D: -137.2372, loss G: 1199.2292\n",
            "Epoch [247/250] Batch 0/938                    Loss D: -452.4141, loss G: 1624.5280\n",
            "Epoch [248/250] Batch 0/938                    Loss D: -128.0286, loss G: 647.9849\n",
            "Epoch [249/250] Batch 0/938                    Loss D: -85.3051, loss G: 539.5010\n"
          ]
        }
      ]
    },
    {
      "cell_type": "markdown",
      "source": [
        "## Step 8: Evaluate the Model"
      ],
      "metadata": {
        "id": "7mxit553QToD"
      }
    },
    {
      "cell_type": "code",
      "source": [
        "import matplotlib.pyplot as plt\n",
        "import numpy as np"
      ],
      "metadata": {
        "id": "zH2q2idiHuWn"
      },
      "execution_count": null,
      "outputs": []
    },
    {
      "cell_type": "code",
      "source": [
        "# Function to generate and display images\n",
        "def generate_and_show_images(model, noise, num_images=16):\n",
        "    model.eval()  # Set the model to evaluation mode\n",
        "\n",
        "    with torch.no_grad():\n",
        "        fake_images = model(noise).detach().cpu()\n",
        "\n",
        "    # Plot and show the generated images\n",
        "    plt.figure(figsize=(5, 5))\n",
        "    for i in range(num_images):\n",
        "        plt.subplot(4, 4, i+1)  # Assuming you want to display 64 (8x8) images\n",
        "        plt.imshow(fake_images[i][0], cmap='gray')\n",
        "        plt.axis('off')\n",
        "\n",
        "    plt.show()\n",
        "\n",
        "# Generate a fixed noise vector\n",
        "fixed_noise = torch.randn(16, 100).to(device)\n",
        "\n",
        "# Generate and display images using the trained generator\n",
        "generate_and_show_images(generator, fixed_noise)"
      ],
      "metadata": {
        "id": "M0lwOQC-QV1w",
        "colab": {
          "base_uri": "https://localhost:8080/",
          "height": 422
        },
        "outputId": "f090a7a6-3e82-468e-8f42-42ab72b40cc8"
      },
      "execution_count": null,
      "outputs": [
        {
          "output_type": "display_data",
          "data": {
            "text/plain": [
              "<Figure size 500x500 with 16 Axes>"
            ],
            "image/png": "[encoded data removed]"
          },
          "metadata": {}
        }
      ]
    },
    {
      "cell_type": "code",
      "source": [
        "def interpolate_points(p1, p2, n_steps=10):\n",
        "    \"\"\" Interpolate between two points in latent space \"\"\"\n",
        "    ratios = np.linspace(0, 1, num=n_steps)\n",
        "    vectors = []\n",
        "    for ratio in ratios:\n",
        "        v = (1.0 - ratio) * p1 + ratio * p2\n",
        "        vectors.append(v)\n",
        "    return np.array(vectors)\n",
        "\n",
        "def generate_images(generator, latent_vectors):\n",
        "    \"\"\" Generate images from latent vectors \"\"\"\n",
        "    images = []\n",
        "    with torch.no_grad():\n",
        "        for v in latent_vectors:\n",
        "            img = generator(torch.FloatTensor(v).to(device).unsqueeze(0))\n",
        "            images.append(img.cpu().squeeze(0).squeeze(0).numpy())\n",
        "    return images\n",
        "\n",
        "# Generate two random latent space vectors\n",
        "z1 = torch.randn(100)\n",
        "z2 = torch.randn(100)\n",
        "\n",
        "# Interpolate between z1 and z2\n",
        "n_interpolations = 10  # Number of interpolation steps\n",
        "interpolated_vectors = interpolate_points(z1, z2, n_steps=n_interpolations)\n",
        "\n",
        "# Generate images from interpolated vectors\n",
        "interpolated_images = generate_images(generator, interpolated_vectors)\n",
        "\n",
        "# Display the images\n",
        "plt.figure(figsize=(10, 2))\n",
        "for i, img in enumerate(interpolated_images):\n",
        "    plt.subplot(1, n_interpolations, i + 1)\n",
        "    plt.imshow(img, cmap='gray')\n",
        "    plt.axis('off')\n",
        "plt.show()"
      ],
      "metadata": {
        "id": "idqIMQO4bbUn",
        "colab": {
          "base_uri": "https://localhost:8080/",
          "height": 102
        },
        "outputId": "bed70703-52f0-49aa-995a-297467b61014"
      },
      "execution_count": null,
      "outputs": [
        {
          "output_type": "display_data",
          "data": {
            "text/plain": [
              "<Figure size 1000x200 with 10 Axes>"
            ],
            "image/png": "[encoded data removed]"
          },
          "metadata": {}
        }
      ]
    }
  ]
}