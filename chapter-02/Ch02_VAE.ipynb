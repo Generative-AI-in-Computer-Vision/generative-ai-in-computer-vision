{
  "nbformat": 4,
  "nbformat_minor": 0,
  "metadata": {
    "colab": {
      "provenance": [],
      "gpuType": "T4",
      "authorship_tag": "ABX9TyPbrE7yBbhdIWa9zfxLEdS8",
      "include_colab_link": true
    },
    "kernelspec": {
      "name": "python3",
      "display_name": "Python 3"
    },
    "language_info": {
      "name": "python"
    },
    "accelerator": "GPU"
  },
  "cells": [
    {
      "cell_type": "markdown",
      "metadata": {
        "id": "view-in-github",
        "colab_type": "text"
      },
      "source": [
        "<a href=\"https://colab.research.google.com/github/Generative-AI-in-Computer-Vision/generative-ai-in-computer-vision/blob/main/chapter-02/Ch02_VAE.ipynb\" target=\"_parent\"><img src=\"https://colab.research.google.com/assets/colab-badge.svg\" alt=\"Open In Colab\"/></a>"
      ]
    },
    {
      "cell_type": "markdown",
      "source": [
        "# Chapter 2: Variational Autoencoder (VAE)"
      ],
      "metadata": {
        "id": "bN_XsP_E1Ro4"
      }
    },
    {
      "cell_type": "markdown",
      "source": [
        "## Step 1: Import Necessary Libraries"
      ],
      "metadata": {
        "id": "sflc9fWM2aO0"
      }
    },
    {
      "cell_type": "code",
      "execution_count": null,
      "metadata": {
        "id": "bxoeT7ZRzrb8"
      },
      "outputs": [],
      "source": [
        "import torch\n",
        "import torch.nn as nn\n",
        "import torch.nn.functional as F\n",
        "import torch.optim as optim\n",
        "from torchvision import datasets, transforms\n",
        "from torch.utils.data import DataLoader"
      ]
    },
    {
      "cell_type": "markdown",
      "source": [
        "## Step 2: Prepare the Dataset"
      ],
      "metadata": {
        "id": "cEVfoKb52eXZ"
      }
    },
    {
      "cell_type": "code",
      "source": [
        "batch_size = 32\n",
        "\n",
        "# Transformations\n",
        "transform = transforms.ToTensor()\n",
        "\n",
        "# Download and load the training and test datasets\n",
        "train_dataset = datasets.MNIST(root='./data', train=True, download=True, transform=transform)\n",
        "test_dataset = datasets.MNIST(root='./data', train=False, download=True, transform=transform)\n",
        "\n",
        "# Data loaders\n",
        "train_loader = DataLoader(train_dataset, batch_size=batch_size, shuffle=True)\n",
        "test_loader = DataLoader(test_dataset, batch_size=batch_size, shuffle=False)"
      ],
      "metadata": {
        "colab": {
          "base_uri": "https://localhost:8080/"
        },
        "id": "sFr_wMG12yfC",
        "outputId": "1d365591-058e-428f-ef35-79181f0bf530"
      },
      "execution_count": null,
      "outputs": [
        {
          "output_type": "stream",
          "name": "stdout",
          "text": [
            "Downloading http://yann.lecun.com/exdb/mnist/train-images-idx3-ubyte.gz\n",
            "Failed to download (trying next):\n",
            "HTTP Error 403: Forbidden\n",
            "\n",
            "Downloading https://ossci-datasets.s3.amazonaws.com/mnist/train-images-idx3-ubyte.gz\n",
            "Downloading https://ossci-datasets.s3.amazonaws.com/mnist/train-images-idx3-ubyte.gz to ./data/MNIST/raw/train-images-idx3-ubyte.gz\n"
          ]
        },
        {
          "output_type": "stream",
          "name": "stderr",
          "text": [
            "100%|██████████| 9912422/9912422 [00:01<00:00, 5805392.23it/s]\n"
          ]
        },
        {
          "output_type": "stream",
          "name": "stdout",
          "text": [
            "Extracting ./data/MNIST/raw/train-images-idx3-ubyte.gz to ./data/MNIST/raw\n",
            "\n",
            "Downloading http://yann.lecun.com/exdb/mnist/train-labels-idx1-ubyte.gz\n",
            "Failed to download (trying next):\n",
            "HTTP Error 403: Forbidden\n",
            "\n",
            "Downloading https://ossci-datasets.s3.amazonaws.com/mnist/train-labels-idx1-ubyte.gz\n",
            "Downloading https://ossci-datasets.s3.amazonaws.com/mnist/train-labels-idx1-ubyte.gz to ./data/MNIST/raw/train-labels-idx1-ubyte.gz\n"
          ]
        },
        {
          "output_type": "stream",
          "name": "stderr",
          "text": [
            "100%|██████████| 28881/28881 [00:00<00:00, 153989.71it/s]\n"
          ]
        },
        {
          "output_type": "stream",
          "name": "stdout",
          "text": [
            "Extracting ./data/MNIST/raw/train-labels-idx1-ubyte.gz to ./data/MNIST/raw\n",
            "\n",
            "Downloading http://yann.lecun.com/exdb/mnist/t10k-images-idx3-ubyte.gz\n",
            "Failed to download (trying next):\n",
            "HTTP Error 403: Forbidden\n",
            "\n",
            "Downloading https://ossci-datasets.s3.amazonaws.com/mnist/t10k-images-idx3-ubyte.gz\n",
            "Downloading https://ossci-datasets.s3.amazonaws.com/mnist/t10k-images-idx3-ubyte.gz to ./data/MNIST/raw/t10k-images-idx3-ubyte.gz\n"
          ]
        },
        {
          "output_type": "stream",
          "name": "stderr",
          "text": [
            "100%|██████████| 1648877/1648877 [00:01<00:00, 1447055.66it/s]\n"
          ]
        },
        {
          "output_type": "stream",
          "name": "stdout",
          "text": [
            "Extracting ./data/MNIST/raw/t10k-images-idx3-ubyte.gz to ./data/MNIST/raw\n",
            "\n",
            "Downloading http://yann.lecun.com/exdb/mnist/t10k-labels-idx1-ubyte.gz\n",
            "Failed to download (trying next):\n",
            "HTTP Error 403: Forbidden\n",
            "\n",
            "Downloading https://ossci-datasets.s3.amazonaws.com/mnist/t10k-labels-idx1-ubyte.gz\n",
            "Downloading https://ossci-datasets.s3.amazonaws.com/mnist/t10k-labels-idx1-ubyte.gz to ./data/MNIST/raw/t10k-labels-idx1-ubyte.gz\n"
          ]
        },
        {
          "output_type": "stream",
          "name": "stderr",
          "text": [
            "100%|██████████| 4542/4542 [00:00<00:00, 3238233.68it/s]"
          ]
        },
        {
          "output_type": "stream",
          "name": "stdout",
          "text": [
            "Extracting ./data/MNIST/raw/t10k-labels-idx1-ubyte.gz to ./data/MNIST/raw\n",
            "\n"
          ]
        },
        {
          "output_type": "stream",
          "name": "stderr",
          "text": [
            "\n"
          ]
        }
      ]
    },
    {
      "cell_type": "markdown",
      "source": [
        "## Step 3: Implement the Encoder"
      ],
      "metadata": {
        "id": "AYBcLMRC3AUD"
      }
    },
    {
      "cell_type": "code",
      "source": [
        "class Encoder(nn.Module):\n",
        "    def __init__(self, latent_dim):\n",
        "        super(Encoder, self).__init__()\n",
        "        self.conv_layers = nn.Sequential(\n",
        "            nn.Conv2d(1, 16, 3, stride=2, padding=1),\n",
        "            nn.ReLU(),\n",
        "            nn.Conv2d(16, 32, 3, stride=2, padding=1),\n",
        "            nn.ReLU(),\n",
        "            nn.Flatten()\n",
        "        )\n",
        "        self.fc1 = nn.Linear(32 * 7 * 7, 128)\n",
        "        self.fc_mu = nn.Linear(128, latent_dim)\n",
        "        self.fc_logvar = nn.Linear(128, latent_dim)\n",
        "\n",
        "    def forward(self, x):\n",
        "        h = self.conv_layers(x)\n",
        "        h = F.relu(self.fc1(h))\n",
        "        return self.fc_mu(h), self.fc_logvar(h)"
      ],
      "metadata": {
        "id": "tIYL7K4c3GBi"
      },
      "execution_count": null,
      "outputs": []
    },
    {
      "cell_type": "markdown",
      "source": [
        "## Step 4: Implement the Decoder"
      ],
      "metadata": {
        "id": "LfFWlBr03J5k"
      }
    },
    {
      "cell_type": "code",
      "source": [
        "class Decoder(nn.Module):\n",
        "    def __init__(self, latent_dim):\n",
        "        super(Decoder, self).__init__()\n",
        "        self.fc = nn.Sequential(\n",
        "            nn.Linear(latent_dim, 128),\n",
        "            nn.ReLU(),\n",
        "            nn.Linear(128, 32 * 7 * 7),\n",
        "            nn.ReLU(),\n",
        "            nn.Unflatten(1, (32, 7, 7))\n",
        "        )\n",
        "        self.convtranspose_layers = nn.Sequential(\n",
        "            nn.ConvTranspose2d(32, 16, 3, stride=2, padding=1, output_padding=1),\n",
        "            nn.ReLU(),\n",
        "            nn.ConvTranspose2d(16, 1, 3, stride=2, padding=1, output_padding=1),\n",
        "            nn.Sigmoid()\n",
        "        )\n",
        "\n",
        "    def forward(self, z):\n",
        "        h = self.fc(z)\n",
        "        return self.convtranspose_layers(h)"
      ],
      "metadata": {
        "id": "FQN8q6OI3OXE"
      },
      "execution_count": null,
      "outputs": []
    },
    {
      "cell_type": "markdown",
      "source": [
        "## Step 5: Implement the VAE Model"
      ],
      "metadata": {
        "id": "_ZK9kxaH3S6Q"
      }
    },
    {
      "cell_type": "code",
      "source": [
        "class VAE(nn.Module):\n",
        "    def __init__(self, latent_dim):\n",
        "        super(VAE, self).__init__()\n",
        "        self.encoder = Encoder(latent_dim)\n",
        "        self.decoder = Decoder(latent_dim)\n",
        "\n",
        "    def reparameterize(self, mu, logvar):\n",
        "        std = torch.exp(0.5 * logvar)\n",
        "        eps = torch.randn_like(std)\n",
        "        return mu + eps * std\n",
        "\n",
        "    def forward(self, x):\n",
        "        mu, logvar = self.encoder(x)\n",
        "        z = self.reparameterize(mu, logvar)\n",
        "        return self.decoder(z), mu, logvar"
      ],
      "metadata": {
        "id": "0CCuXK8X3VXy"
      },
      "execution_count": null,
      "outputs": []
    },
    {
      "cell_type": "markdown",
      "source": [
        "## Step 6: Define the VAE Loss Function"
      ],
      "metadata": {
        "id": "ORjHvMTI4aIp"
      }
    },
    {
      "cell_type": "code",
      "source": [
        "def vae_loss(recon_x, x, mu, logvar):\n",
        "    # Reconstruction loss\n",
        "    BCE = nn.functional.binary_cross_entropy(recon_x, x, reduction='sum')\n",
        "\n",
        "    # KL divergence\n",
        "    KLD = -0.5 * torch.sum(1 + logvar - mu.pow(2) - logvar.exp())\n",
        "\n",
        "    return BCE + KLD"
      ],
      "metadata": {
        "id": "VM70BsRt4fgz"
      },
      "execution_count": null,
      "outputs": []
    },
    {
      "cell_type": "markdown",
      "source": [
        "## Step 7: Initialize the Model and Optimizer"
      ],
      "metadata": {
        "id": "FANSh_oe4kAQ"
      }
    },
    {
      "cell_type": "code",
      "source": [
        "latent_dim = 50\n",
        "\n",
        "model = VAE(latent_dim)\n",
        "optimizer = optim.Adam(model.parameters(), lr=1e-3)"
      ],
      "metadata": {
        "id": "DAFBKDD84jUi"
      },
      "execution_count": null,
      "outputs": []
    },
    {
      "cell_type": "markdown",
      "source": [
        "## Step 8: Train the VAE"
      ],
      "metadata": {
        "id": "hQUy-t3h5olY"
      }
    },
    {
      "cell_type": "code",
      "source": [
        "num_epochs = 30\n",
        "\n",
        "for epoch in range(num_epochs):\n",
        "    for data in train_loader:\n",
        "        img, _ = data\n",
        "        optimizer.zero_grad()\n",
        "        recon_batch, mu, logvar = model(img)\n",
        "        loss = vae_loss(recon_batch, img, mu, logvar)\n",
        "        loss.backward()\n",
        "        optimizer.step()\n",
        "\n",
        "    print(f'Epoch [{epoch+1}/{num_epochs}], Loss: {loss.item()/len(img):.4f}')"
      ],
      "metadata": {
        "colab": {
          "base_uri": "https://localhost:8080/"
        },
        "id": "9MEUq3Rt5nOt",
        "outputId": "bf507ed8-ea80-4487-f8b9-fc4acb52c3c0"
      },
      "execution_count": null,
      "outputs": [
        {
          "output_type": "stream",
          "name": "stdout",
          "text": [
            "Epoch [1/30], Loss: 128.5971\n",
            "Epoch [2/30], Loss: 106.1571\n",
            "Epoch [3/30], Loss: 104.5631\n",
            "Epoch [4/30], Loss: 117.5329\n",
            "Epoch [5/30], Loss: 111.4008\n",
            "Epoch [6/30], Loss: 103.1936\n",
            "Epoch [7/30], Loss: 103.8095\n",
            "Epoch [8/30], Loss: 103.8640\n",
            "Epoch [9/30], Loss: 92.4726\n",
            "Epoch [10/30], Loss: 113.2838\n",
            "Epoch [11/30], Loss: 103.2243\n",
            "Epoch [12/30], Loss: 100.7592\n",
            "Epoch [13/30], Loss: 99.5044\n",
            "Epoch [14/30], Loss: 106.5931\n",
            "Epoch [15/30], Loss: 103.3110\n",
            "Epoch [16/30], Loss: 101.9742\n",
            "Epoch [17/30], Loss: 100.2633\n",
            "Epoch [18/30], Loss: 91.7983\n",
            "Epoch [19/30], Loss: 97.0320\n",
            "Epoch [20/30], Loss: 100.5534\n",
            "Epoch [21/30], Loss: 104.2018\n",
            "Epoch [22/30], Loss: 97.9585\n",
            "Epoch [23/30], Loss: 97.9891\n",
            "Epoch [24/30], Loss: 98.8250\n",
            "Epoch [25/30], Loss: 99.7847\n",
            "Epoch [26/30], Loss: 95.2029\n",
            "Epoch [27/30], Loss: 95.4581\n",
            "Epoch [28/30], Loss: 98.1498\n",
            "Epoch [29/30], Loss: 96.4821\n",
            "Epoch [30/30], Loss: 99.1380\n"
          ]
        }
      ]
    },
    {
      "cell_type": "markdown",
      "source": [
        "## Step 9: Model Evaluation"
      ],
      "metadata": {
        "id": "56NXify550zd"
      }
    },
    {
      "cell_type": "code",
      "source": [
        "import matplotlib.pyplot as plt"
      ],
      "metadata": {
        "id": "y2luP7KFI_Sr"
      },
      "execution_count": null,
      "outputs": []
    },
    {
      "cell_type": "code",
      "source": [
        "def generate_latent_points(latent_dim, n_samples):\n",
        "    # Generate points in the latent space\n",
        "    z_input = torch.randn(n_samples, latent_dim)\n",
        "    return z_input\n",
        "\n",
        "def generate_images(n_samples, model, latent_dim):\n",
        "    # Sample random points in the latent space\n",
        "    z_input = generate_latent_points(latent_dim, n_samples)\n",
        "\n",
        "    # Generate images from these latent points\n",
        "    model.eval()\n",
        "    with torch.no_grad():\n",
        "        # Move the latent vector to the same device as the model\n",
        "        z_input = z_input.to(next(model.parameters()).device)\n",
        "        # images = model.decode(z_input)\n",
        "        images = model.decoder(z_input)\n",
        "\n",
        "    return images"
      ],
      "metadata": {
        "id": "Sd7m4nqyLldY"
      },
      "execution_count": null,
      "outputs": []
    },
    {
      "cell_type": "code",
      "source": [
        "def interpolate_latent_points(start, end, n_steps=10):\n",
        "    # Linear interpolation\n",
        "    ratios = torch.linspace(0, 1, steps=n_steps).unsqueeze(1)\n",
        "    return start + ratios * (end - start)\n",
        "\n",
        "def interpolate_and_generate_images(model, latent_dim, n_steps=10):\n",
        "    # Generate start and end points in the latent space\n",
        "    start = generate_latent_points(latent_dim, 1)\n",
        "    end = generate_latent_points(latent_dim, 1)\n",
        "\n",
        "    # Interpolate between these two points\n",
        "    interpolated_points = interpolate_latent_points(start, end, n_steps)\n",
        "\n",
        "    # Generate images\n",
        "    model.eval()\n",
        "    with torch.no_grad():\n",
        "        # Move the latent vector to the same device as the model\n",
        "        interpolated_points = interpolated_points.to(next(model.parameters()).device)\n",
        "        images = model.decoder(interpolated_points)\n",
        "\n",
        "    return images"
      ],
      "metadata": {
        "id": "UcEvP7BwHCAJ"
      },
      "execution_count": null,
      "outputs": []
    },
    {
      "cell_type": "code",
      "source": [
        "def show_images(images, n_samples):\n",
        "    plt.figure(figsize=(15, 3))\n",
        "    for i in range(n_samples):\n",
        "        ax = plt.subplot(1, n_samples, i+1)\n",
        "        plt.imshow(images[i].cpu().squeeze().numpy(), cmap='gray')\n",
        "        ax.axis('off')\n",
        "    plt.show()"
      ],
      "metadata": {
        "id": "1O7TcA5F_FI7"
      },
      "execution_count": null,
      "outputs": []
    },
    {
      "cell_type": "code",
      "source": [
        "# Generate and display images\n",
        "n_samples = 8  # Number of images to generate\n",
        "generated_images = generate_images(n_samples, model, latent_dim)\n",
        "show_images(generated_images, n_samples)"
      ],
      "metadata": {
        "colab": {
          "base_uri": "https://localhost:8080/",
          "height": 160
        },
        "id": "fBkivl7DLd55",
        "outputId": "6083f2bc-c02d-41df-ebf0-3f460fb1e8b2"
      },
      "execution_count": null,
      "outputs": [
        {
          "output_type": "display_data",
          "data": {
            "text/plain": [
              "<Figure size 1500x300 with 8 Axes>"
            ],
            "image/png": "[encoded data removed]"
          },
          "metadata": {}
        }
      ]
    },
    {
      "cell_type": "code",
      "source": [
        "n_steps = 8  # Number of interpolation steps/images\n",
        "interpolated_images = interpolate_and_generate_images(model, latent_dim, n_steps)\n",
        "show_images(interpolated_images, n_steps)"
      ],
      "metadata": {
        "colab": {
          "base_uri": "https://localhost:8080/",
          "height": 160
        },
        "id": "ALymhwcFHEVv",
        "outputId": "1896ab0e-9abe-4478-d232-591b568dfa6b"
      },
      "execution_count": null,
      "outputs": [
        {
          "output_type": "display_data",
          "data": {
            "text/plain": [
              "<Figure size 1500x300 with 8 Axes>"
            ],
            "image/png": "[encoded data removed]"
          },
          "metadata": {}
        }
      ]
    }
  ]
}